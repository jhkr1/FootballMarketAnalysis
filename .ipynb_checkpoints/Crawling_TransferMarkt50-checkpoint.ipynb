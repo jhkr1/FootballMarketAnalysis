{
 "cells": [
  {
   "cell_type": "markdown",
   "id": "d78b78e3-7432-4e79-ad5c-c4370e55f729",
   "metadata": {},
   "source": [
    "# Transfermarkt 크롤링"
   ]
  },
  {
   "cell_type": "markdown",
   "id": "e78cb2f7-6bec-410e-81b1-673b9129ec34",
   "metadata": {},
   "source": [
    "### 첫 페이지와 두번째 페이지 50명 정보"
   ]
  },
  {
   "cell_type": "code",
   "execution_count": 76,
   "id": "612ae095-a411-4eb1-86b3-9c26fe7d58e1",
   "metadata": {},
   "outputs": [
    {
     "name": "stdout",
     "output_type": "stream",
     "text": [
      "€200.00m  \n",
      "€200.00m  \n",
      "€180.00m \n",
      "€180.00m \n",
      "€150.00m  \n",
      "€150.00m \n",
      "€140.00m \n",
      "€130.00m \n",
      "€130.00m \n",
      "€130.00m  \n",
      "€130.00m \n",
      "€120.00m \n",
      "€110.00m \n",
      "€110.00m \n",
      "€110.00m \n",
      "€100.00m \n",
      "€100.00m \n",
      "€100.00m \n",
      "€90.00m \n",
      "€90.00m  \n",
      "€90.00m \n",
      "€85.00m \n",
      "€80.00m \n",
      "€80.00m \n",
      "€80.00m \n",
      "€200.00m  \n",
      "€200.00m  \n",
      "€180.00m \n",
      "€180.00m \n",
      "€150.00m  \n",
      "€150.00m \n",
      "€140.00m \n",
      "€130.00m \n",
      "€130.00m \n",
      "€130.00m  \n",
      "€130.00m \n",
      "€120.00m \n",
      "€110.00m \n",
      "€110.00m \n",
      "€110.00m \n",
      "€100.00m \n",
      "€100.00m \n",
      "€100.00m \n",
      "€90.00m \n",
      "€90.00m  \n",
      "€90.00m \n",
      "€85.00m \n",
      "€80.00m \n",
      "€80.00m \n",
      "€80.00m \n"
     ]
    }
   ],
   "source": [
    "import requests\n",
    "from bs4 import BeautifulSoup\n",
    "import pandas as pd\n",
    "import time\n",
    "\n",
    "# requests.get()으로 url정보 요청하기\n",
    "headers = {\"User-Agent\":'Mozilla/5.0 (Macintosh; Intel Mac OS X 10_15_7) AppleWebKit/537.36 (KHTML, like Gecko) Chrome/129.0.0.0 Safari/537.36'}\n",
    "\n",
    "number = []\n",
    "name = []\n",
    "position = []\n",
    "age = []\n",
    "nation = []\n",
    "team = []\n",
    "value = []\n",
    "\n",
    "for i in range(1, 3):\n",
    "    url = 'https://www.transfermarkt.com/spieler-statistik/wertvollstespieler/marktwertetop'\n",
    "    r = requests.get(url, headers=headers)\n",
    "    r.status_code\n",
    "    soup = BeautifulSoup(r.text, 'html.parser')\n",
    "\n",
    "    player_info = soup.find_all('tr', class_=['odd', 'even'])\n",
    "    # print(len(player_info))\n",
    "\n",
    "    for info in player_info:\n",
    "        player = info.find_all('td')\n",
    "        \n",
    "        number.append(player[0].text)\n",
    "        name.append(player[3].text)\n",
    "        position.append(player[4].text)\n",
    "        age.append(player[5].text)\n",
    "        nation.append(player[6].img['alt'])\n",
    "        team.append(player[7].img['alt'])\n",
    "        value.append(player[8].text.strip())\n",
    "        \n",
    "    time.sleep(1)"
   ]
  }
 ],
 "metadata": {
  "kernelspec": {
   "display_name": "Python 3 (ipykernel)",
   "language": "python",
   "name": "python3"
  },
  "language_info": {
   "codemirror_mode": {
    "name": "ipython",
    "version": 3
   },
   "file_extension": ".py",
   "mimetype": "text/x-python",
   "name": "python",
   "nbconvert_exporter": "python",
   "pygments_lexer": "ipython3",
   "version": "3.12.2"
  }
 },
 "nbformat": 4,
 "nbformat_minor": 5
}
